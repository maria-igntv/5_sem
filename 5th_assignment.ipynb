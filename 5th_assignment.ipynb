{
  "cells": [
    {
      "cell_type": "markdown",
      "id": "fb280b96",
      "metadata": {
        "id": "fb280b96"
      },
      "source": [
        "**Задача 1**\n",
        "\n",
        "Напишите функцию, которая по заданному p и вектору **х** вычисляет норму этого вектора $$ {\\|x\\|}_p = (\\sum_{i=1}^n |x_i|^n)^{1/n}$$\n",
        "Вторая функция, которая вычисляет подчинённую этой норме метричную норму данной матрицы, а также число обусловленности."
      ]
    },
    {
      "cell_type": "code",
      "execution_count": null,
      "id": "0e99f274",
      "metadata": {
        "colab": {
          "base_uri": "https://localhost:8080/"
        },
        "id": "0e99f274",
        "outputId": "e6e83986-bffb-4e42-bff6-ff698ea8183c"
      },
      "outputs": [
        {
          "output_type": "stream",
          "name": "stdout",
          "text": [
            "6.830661262137769\n"
          ]
        },
        {
          "output_type": "execute_result",
          "data": {
            "text/plain": [
              "6.830661262137771"
            ]
          },
          "metadata": {},
          "execution_count": 141
        }
      ],
      "source": [
        "import numpy as np\n",
        "from scipy.optimize import minimize\n",
        "from numpy import linalg as LA\n",
        "\n",
        "x0 = np.array([-1, 2, 3])\n",
        "A = np.array([[-1, 2, 3],\n",
        "            [4, 0, 4],\n",
        "            [1, 2, 3]])\n",
        "\n",
        "def vec(p, x):\n",
        "    return (np.sum(np.abs(x[:])**p))**(1/p) \n",
        "\n",
        "def mat(A, p):\n",
        "    def f(x):\n",
        "        return -vec(p,A@x)/vec(p, x)   \n",
        "    res = minimize(f, x0, method='Nelder-Mead', tol=1e-6)   \n",
        "    return -f(res.x)\n",
        "\n",
        "print(LA.norm(A, ord = 2))\n",
        "mat(A, 2)"
      ]
    },
    {
      "cell_type": "markdown",
      "id": "de8f7ce0",
      "metadata": {
        "id": "de8f7ce0"
      },
      "source": [
        "**Задача 2**"
      ]
    },
    {
      "cell_type": "code",
      "execution_count": null,
      "id": "65c033de",
      "metadata": {
        "scrolled": true,
        "colab": {
          "base_uri": "https://localhost:8080/",
          "height": 265
        },
        "id": "65c033de",
        "outputId": "021ecdae-b444-4a19-bb81-8cba08f0e9e7"
      },
      "outputs": [
        {
          "output_type": "display_data",
          "data": {
            "text/plain": [
              "<Figure size 432x288 with 1 Axes>"
            ],
            "image/png": "[encoded data removed]"
          },
          "metadata": {
            "needs_background": "light"
          }
        }
      ],
      "source": [
        "import numpy as np\n",
        "import matplotlib.pyplot as plt\n",
        "from numpy import linalg as LA\n",
        "\n",
        "B = np.array([[-1, -1, -1],\n",
        "             [-1, -1, 0]])\n",
        "\n",
        "def frobenius(a):\n",
        "    u, s, vh = np.linalg.svd(a, full_matrices=False)\n",
        "    return np.sqrt(np.sum((s[:])**2))\n",
        "\n",
        "def norm(a):\n",
        "    u, s, vh = np.linalg.svd(a, full_matrices=False)\n",
        "    return np.max(s)\n",
        "\n",
        "max = 50\n",
        "n = range(max)\n",
        "mean = np.zeros(max)\n",
        "f = np.empty([1, max])\n",
        "f1 = np.empty([1, max])\n",
        "f2 = np.empty([1, max])\n",
        "\n",
        "for i in range(2, max, 1):\n",
        "    a = np.random.random(size=(i, i))\n",
        "    f[0, i] = norm(a)\n",
        "    f1[0, i] = frobenius(a)\n",
        "    f2[0, i] = frobenius(a)/np.sqrt(i)\n",
        "    mean[i] = norm(a)/frobenius(a)\n",
        "\n",
        "    \n",
        "plt.grid(True)    \n",
        "plt.scatter(n, f, c = 'b', s= 10, label= \"$L^2$ норма\")\n",
        "plt.scatter(n, f1, c = 'r', s= 10, label= \"Норма Фробениуса\")\n",
        "plt.scatter(n, f2, c = 'g', s= 10, label= \"Норма Фробениуса, деленная на корень\")\n",
        "plt.legend()\n",
        "plt.show()"
      ]
    },
    {
      "cell_type": "code",
      "execution_count": null,
      "id": "3740f14e",
      "metadata": {
        "colab": {
          "base_uri": "https://localhost:8080/",
          "height": 265
        },
        "id": "3740f14e",
        "outputId": "555cd8fb-5b3f-4abc-abfb-8de2eefe7714"
      },
      "outputs": [
        {
          "output_type": "display_data",
          "data": {
            "text/plain": [
              "<Figure size 432x288 with 1 Axes>"
            ],
            "image/png": "[encoded data removed]"
          },
          "metadata": {
            "needs_background": "light"
          }
        }
      ],
      "source": [
        "np.mean(mean[2:max:1])\n",
        "plt.grid(True)\n",
        "plt.scatter(n[2:max:1], mean[2:max:1], marker = \"o\", c = 'g', s= 10)\n",
        "plt.show()"
      ]
    },
    {
      "cell_type": "markdown",
      "id": "a5c4b630",
      "metadata": {
        "id": "a5c4b630"
      },
      "source": [
        "**Задача 3**"
      ]
    },
    {
      "cell_type": "code",
      "execution_count": null,
      "id": "2988fc5d",
      "metadata": {
        "colab": {
          "base_uri": "https://localhost:8080/"
        },
        "id": "2988fc5d",
        "outputId": "4de27dc2-ced9-4e23-fd1b-9785a4e5530d"
      },
      "outputs": [
        {
          "output_type": "stream",
          "name": "stdout",
          "text": [
            "[[6.62372208]\n",
            " [3.56479382]]\n"
          ]
        }
      ],
      "source": [
        "import numpy as np\n",
        "\n",
        "A = np.array([[2, 1], [-1, 2]])\n",
        "\n",
        "def norm(A):\n",
        "    L = np.linalg.cholesky(A)\n",
        "    z = np.random.randn(L.shape[1]).reshape(-1, 1)\n",
        "    m = np.random.randint(0, high=10, size=L.shape[1]).reshape(-1, 1)\n",
        "    return m + L@z\n",
        "\n",
        "X = norm(A)\n",
        "print(X)"
      ]
    },
    {
      "cell_type": "markdown",
      "id": "4b055a16",
      "metadata": {
        "id": "4b055a16"
      },
      "source": [
        "**Задача 4**"
      ]
    },
    {
      "cell_type": "code",
      "execution_count": null,
      "id": "1d29d2ac",
      "metadata": {
        "colab": {
          "base_uri": "https://localhost:8080/",
          "height": 265
        },
        "id": "1d29d2ac",
        "outputId": "41f8ad78-9877-4c93-cd5e-2b3fc0c614ba"
      },
      "outputs": [
        {
          "output_type": "display_data",
          "data": {
            "text/plain": [
              "<Figure size 432x288 with 1 Axes>"
            ],
            "image/png": "[encoded data removed]"
          },
          "metadata": {
            "needs_background": "light"
          }
        }
      ],
      "source": [
        "import numpy as np\n",
        "import matplotlib.pyplot as plt\n",
        "from scipy.spatial import procrustes\n",
        "\n",
        "noise = 10*np.random.randn(51, 2)\n",
        "X1 = np.empty([51, 2])\n",
        "for i in range(-25, 26, 1):\n",
        "    X1[i + 25, 0] = i\n",
        "    X1[i + 25, 1] = 0.5*X1[i + 25, 0]**2\n",
        "S = np.array([[0, -1],[1, 0]])\n",
        "X2 = X1.copy()\n",
        "\n",
        "mu = np.array([50, 0]) # сдвиг\n",
        "for t in range(X1.shape[0]):\n",
        "    X2[t, :] = mu + X1[t, :]@S \n",
        "X1 = X1 + noise\n",
        "X2 = X2 + noise #шум\n",
        "plt.grid(True)\n",
        "plt.scatter(X1[:,0], X1[:,1], marker = \"o\", c = 'g', s = 10)\n",
        "plt.scatter(X2[:,0], X2[:,1], marker = \"o\", c = 'b', s = 10)\n",
        "plt.show()"
      ]
    },
    {
      "cell_type": "code",
      "execution_count": null,
      "id": "44acf0cf",
      "metadata": {
        "colab": {
          "base_uri": "https://localhost:8080/",
          "height": 265
        },
        "id": "44acf0cf",
        "outputId": "28d235ed-ab1a-493f-f5c2-7be2e49e535c"
      },
      "outputs": [
        {
          "output_type": "display_data",
          "data": {
            "text/plain": [
              "<Figure size 432x288 with 1 Axes>"
            ],
            "image/png": "[encoded data removed]"
          },
          "metadata": {
            "needs_background": "light"
          }
        }
      ],
      "source": [
        "def procrust(X1, X2):\n",
        "    x1 = np.mean(X1, axis=0).reshape(-1, 1)\n",
        "    x2 = np.mean(X2, axis=0).reshape(-1, 1)\n",
        "    e = np.ones(X1.shape[0]).reshape(-1, 1)\n",
        "    A1 = X1 - e @ x1.T\n",
        "    A2 = X2 - e @ x2.T\n",
        "    B = A1.T @ A2\n",
        "    u, d, v = np.linalg.svd(B, full_matrices = False, compute_uv = True)\n",
        "    r = u @ v.T\n",
        "    mu = x2 - r.T @ x1\n",
        "    return (X1@r + e @ mu.T)\n",
        "\n",
        "P = procrust(X1, X2)\n",
        "\n",
        "plt.grid(True)\n",
        "plt.scatter(X1[:,0], X1[:,1], c = 'b', s = 10)\n",
        "plt.scatter(X2[:,0], X2[:,1], c = 'r', s = 10)\n",
        "plt.scatter(P[:,0], P[:,1], c = 'g', s = 10)\n",
        "plt.show()"
      ]
    },
    {
      "cell_type": "code",
      "execution_count": null,
      "id": "d7031b84",
      "metadata": {
        "colab": {
          "base_uri": "https://localhost:8080/",
          "height": 265
        },
        "id": "d7031b84",
        "outputId": "1963e663-b104-4085-fc49-79c643be5af3"
      },
      "outputs": [
        {
          "output_type": "display_data",
          "data": {
            "text/plain": [
              "<Figure size 432x288 with 1 Axes>"
            ],
            "image/png": "[encoded data removed]"
          },
          "metadata": {
            "needs_background": "light"
          }
        }
      ],
      "source": [
        "mtx1, mtx2, disparity = procrustes(X1, X2)\n",
        "\n",
        "plt.grid(True)\n",
        "plt.scatter(mtx1[:,0], mtx1[:,1], c = 'm')\n",
        "plt.scatter(mtx2[:,0], mtx2[:,1], c = 'g', s= 5)\n",
        "plt.show()"
      ]
    },
    {
      "cell_type": "code",
      "execution_count": null,
      "id": "feb05310",
      "metadata": {
        "id": "feb05310"
      },
      "outputs": [],
      "source": []
    }
  ],
  "metadata": {
    "kernelspec": {
      "display_name": "Python 3 (ipykernel)",
      "language": "python",
      "name": "python3"
    },
    "language_info": {
      "codemirror_mode": {
        "name": "ipython",
        "version": 3
      },
      "file_extension": ".py",
      "mimetype": "text/x-python",
      "name": "python",
      "nbconvert_exporter": "python",
      "pygments_lexer": "ipython3",
      "version": "3.9.12"
    },
    "colab": {
      "provenance": []
    }
  },
  "nbformat": 4,
  "nbformat_minor": 5
}
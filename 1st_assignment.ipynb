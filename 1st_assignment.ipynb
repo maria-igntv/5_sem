{
  "nbformat": 4,
  "nbformat_minor": 0,
  "metadata": {
    "colab": {
      "provenance": [],
      "collapsed_sections": [],
      "authorship_tag": "ABX9TyNhmuDFHhtgd/nxEat3tXww",
      "include_colab_link": true
    },
    "kernelspec": {
      "name": "python3",
      "display_name": "Python 3"
    },
    "language_info": {
      "name": "python"
    }
  },
  "cells": [
    {
      "cell_type": "markdown",
      "metadata": {
        "id": "view-in-github",
        "colab_type": "text"
      },
      "source": [
        "<a href=\"https://colab.research.google.com/github/maria-igntv/5_sem/blob/main/1st_assignment.ipynb\" target=\"_parent\"><img src=\"https://colab.research.google.com/assets/colab-badge.svg\" alt=\"Open In Colab\"/></a>"
      ]
    },
    {
      "cell_type": "markdown",
      "source": [
        "\n",
        "##              **Упр 1 Numpy**"
      ],
      "metadata": {
        "id": "Q602fVHFQkoU"
      }
    },
    {
      "cell_type": "markdown",
      "source": [
        "**1. Пусть у двух матриц совпадает количество строк. Объедините их в одну горизонтально (объедините столбцы\n",
        "этих матриц)**"
      ],
      "metadata": {
        "id": "5H2YNWEGoB1j"
      }
    },
    {
      "cell_type": "code",
      "source": [
        "import numpy as np"
      ],
      "metadata": {
        "id": "csfVSn05om1r"
      },
      "execution_count": null,
      "outputs": []
    },
    {
      "cell_type": "code",
      "source": [
        "A = np.random.randint(10, size = (3, 4))\n",
        "B = np.random.randint(10, size = (3, 3))\n",
        " #print(A)\n",
        " #print(B)\n",
        "np.concatenate((A, B), axis=1)"
      ],
      "metadata": {
        "colab": {
          "base_uri": "https://localhost:8080/"
        },
        "id": "AnW3u0R9oEWH",
        "outputId": "9fdf7e33-df77-4a98-9fd5-16874cfe1c4d"
      },
      "execution_count": null,
      "outputs": [
        {
          "output_type": "execute_result",
          "data": {
            "text/plain": [
              "array([[5, 0, 0, 1, 5, 6, 7],\n",
              "       [5, 4, 9, 8, 8, 5, 9],\n",
              "       [5, 0, 3, 4, 3, 7, 6]])"
            ]
          },
          "metadata": {},
          "execution_count": 23
        }
      ]
    },
    {
      "cell_type": "markdown",
      "source": [
        "**2. Пусть дана numpy-матрица M и два массива индексов a, b одинаковой длины. Постройте массив элементов\n",
        "M[a[0], b[0]], M[a[1], b[1]], . . .. Указание: для выполнения этой операции не требуется никаких именных функций.**"
      ],
      "metadata": {
        "id": "7UbKiLdvpZbW"
      }
    },
    {
      "cell_type": "code",
      "source": [
        "M = np.random.randint(10, size = (4,5))\n",
        "print(M,'\\n')\n",
        "\n",
        "a = np.random.randint(4, size = 4)\n",
        "b = np.random.randint(5, size = 4)\n",
        "print(a)\n",
        "print(b, '\\n')\n",
        "\n",
        "print('New arrow M: \\n',np.array(M[a, b]), '\\n')\n"
      ],
      "metadata": {
        "colab": {
          "base_uri": "https://localhost:8080/"
        },
        "id": "WIQ1aRv8pbLm",
        "outputId": "6c21f94a-05de-4b8f-d9f0-fce88c5d836d"
      },
      "execution_count": null,
      "outputs": [
        {
          "output_type": "stream",
          "name": "stdout",
          "text": [
            "[[6 7 4 5 7]\n",
            " [0 8 0 5 4]\n",
            " [9 7 6 4 9]\n",
            " [4 1 0 8 2]] \n",
            "\n",
            "[0 2 1 3]\n",
            "[4 1 0 2] \n",
            "\n",
            "New arrow M: \n",
            " [7 7 0 0] \n",
            "\n"
          ]
        }
      ]
    },
    {
      "cell_type": "markdown",
      "source": [
        "**3. Подсчитайте след матрицы и количество ненулевых элементов на ее диагонали**"
      ],
      "metadata": {
        "id": "1SvFqSS6th4e"
      }
    },
    {
      "cell_type": "code",
      "source": [
        "A = np.random.randint(10, size=(5, 5))\n",
        "print(A, '\\n')\n",
        "D = A.diagonal()\n",
        "\n",
        "print('trace =', D.sum(), 'length =', len(D[D!=0]))"
      ],
      "metadata": {
        "colab": {
          "base_uri": "https://localhost:8080/"
        },
        "id": "3Djj9yFqtnwF",
        "outputId": "b24181f6-84f2-44f9-efb7-88df6149f851"
      },
      "execution_count": null,
      "outputs": [
        {
          "output_type": "stream",
          "name": "stdout",
          "text": [
            "[[3 4 0 8 1]\n",
            " [5 6 1 9 2]\n",
            " [9 7 7 1 9]\n",
            " [0 0 4 2 1]\n",
            " [9 0 9 6 2]] \n",
            "\n",
            "trace = 20 length = 5\n"
          ]
        }
      ]
    },
    {
      "cell_type": "markdown",
      "source": [
        "**4. Дан тензор произвольной размерности с целочисленными элементами. Определите набор элементов тензора\n",
        "без повторений и подсчитайте количество вхождений каждого из этих чисел в исходный тензор.**\n"
      ],
      "metadata": {
        "id": "E3KhVoq28HiX"
      }
    },
    {
      "cell_type": "code",
      "source": [
        "A = np.random.randint(5, size=(4, 5))\n",
        "print(A)\n",
        "\n",
        "unique, counts = np.unique(A, return_counts=True) # Returns the sorted unique elements of an array and count them. \n",
        "\n",
        "print('\\n unique',unique, '\\n', 'number', counts)"
      ],
      "metadata": {
        "id": "xFX31Ayj8KU4",
        "colab": {
          "base_uri": "https://localhost:8080/"
        },
        "outputId": "d65301dd-6f3d-4535-bcf2-5f3a52113722"
      },
      "execution_count": null,
      "outputs": [
        {
          "output_type": "stream",
          "name": "stdout",
          "text": [
            "[[1 1 2 4 0]\n",
            " [0 0 4 4 0]\n",
            " [4 0 2 1 4]\n",
            " [4 1 3 4 4]]\n",
            "\n",
            " unique [0 1 2 3 4] \n",
            " number [5 4 2 1 8]\n"
          ]
        }
      ]
    },
    {
      "cell_type": "markdown",
      "source": [
        "**5. Даны два произвольных numpy-массива одинаковой размерности (n, m). Замените нулями те элементы второго\n",
        "массива, для которых на соответствующем месте в первом массиве находятся отрицательные числа**"
      ],
      "metadata": {
        "id": "RPk9H5pECK5u"
      }
    },
    {
      "cell_type": "code",
      "source": [
        "A = np.random.choice([-5, 5], 20).reshape((4, 5))\n",
        "B = np.random.randint(10, size=(4, 5))\n",
        "print(A, '\\n\\n', B, '\\n')\n",
        "#(0 in A) \n",
        "B[A<0] = 0\n",
        "print ('B new: \\n', B)"
      ],
      "metadata": {
        "colab": {
          "base_uri": "https://localhost:8080/"
        },
        "id": "CoVRe8wZCRqj",
        "outputId": "8514b212-fa16-43de-9e24-36c64c999271"
      },
      "execution_count": null,
      "outputs": [
        {
          "output_type": "stream",
          "name": "stdout",
          "text": [
            "[[-5 -5 -5  5  5]\n",
            " [ 5 -5 -5 -5 -5]\n",
            " [-5  5 -5  5  5]\n",
            " [-5  5  5  5  5]] \n",
            "\n",
            " [[4 0 1 7 7]\n",
            " [3 0 5 1 2]\n",
            " [0 3 2 7 0]\n",
            " [3 3 2 3 7]] \n",
            "\n",
            "B new: \n",
            " [[0 0 0 7 7]\n",
            " [3 0 0 0 0]\n",
            " [0 3 0 7 0]\n",
            " [0 3 2 3 7]]\n"
          ]
        }
      ]
    },
    {
      "cell_type": "markdown",
      "source": [
        "**6. Дана матрица. Вычтете из каждого столбца среднее по столбцу. После этого разделите каждый столбец на\n",
        "корень из суммы квадратов его элементов. Если столбец нулевой, то оставьте его нулевым.**"
      ],
      "metadata": {
        "id": "jdyI3xD_OU8a"
      }
    },
    {
      "cell_type": "code",
      "source": [
        "A = np.random.randint(10, size=(4, 5))\n",
        "print(A, '\\n')\n",
        "m = A.mean(axis=0)\n",
        "#print(m, '\\n')\n",
        "#print(A - m, '\\n')\n",
        "\n",
        "ssq = np.sum((A-m)**2, axis=0)\n",
        "#print (np.sqrt(ssq), '\\n')\n",
        "\n",
        "print((A-m)/np.sqrt(ssq), '\\n')"
      ],
      "metadata": {
        "colab": {
          "base_uri": "https://localhost:8080/"
        },
        "id": "mYNsKxK7OYie",
        "outputId": "3c3c72ad-4ce6-424b-d6d1-32264fd25e09"
      },
      "execution_count": null,
      "outputs": [
        {
          "output_type": "stream",
          "name": "stdout",
          "text": [
            "[[5 6 5 3 2]\n",
            " [7 6 6 8 2]\n",
            " [0 1 7 4 3]\n",
            " [5 4 4 6 2]] \n",
            "\n",
            "[[ 0.14501047  0.42759306 -0.2236068  -0.5858501  -0.28867513]\n",
            " [ 0.53170507  0.42759306  0.2236068   0.71603901 -0.28867513]\n",
            " [-0.82172602 -0.79410139  0.67082039 -0.32547228  0.8660254 ]\n",
            " [ 0.14501047 -0.06108472 -0.67082039  0.19528337 -0.28867513]] \n",
            "\n"
          ]
        }
      ]
    },
    {
      "cell_type": "markdown",
      "source": [
        "**7. Даны две матрицы с одинаковым количеством строк и количеством столбцов n и m соответственно. Постройте\n",
        "матрицу n × m всевозможных произведений столбцов друг на друга (в смысле скалярного произведения).**"
      ],
      "metadata": {
        "id": "1tuARYa7GQ_a"
      }
    },
    {
      "cell_type": "code",
      "source": [
        "A = np.random.randint(4, size=(4, 5))\n",
        "B = np.random.randint(5, size=(4, 5))\n",
        "\n",
        "print(A.T @ B)"
      ],
      "metadata": {
        "colab": {
          "base_uri": "https://localhost:8080/"
        },
        "id": "xVDmb81zlZ8p",
        "outputId": "f3277766-8f23-4bea-b1b0-2b65397dce81"
      },
      "execution_count": null,
      "outputs": [
        {
          "output_type": "stream",
          "name": "stdout",
          "text": [
            "[[16  9 16 15 14]\n",
            " [12 13 19 12  9]\n",
            " [ 8 10 11  3  7]\n",
            " [14 17 22  9 14]\n",
            " [21 18 31 21 24]]\n"
          ]
        }
      ]
    },
    {
      "cell_type": "markdown",
      "source": [
        "**8. Постройте график времени выполнения операции матричного умножения двух случайных матриц NxN как функции N при выполнении этой операции i) с помощью numpy ii) с помощью цикла for в питоне**"
      ],
      "metadata": {
        "id": "hN7IlOXcGXUm"
      }
    },
    {
      "cell_type": "code",
      "source": [
        "# print(\"--- %s seconds ---\" % (time.time() - start_time))\n",
        "import numpy as np\n",
        "import time\n",
        "import matplotlib.pyplot as plt\n",
        "\n",
        "\n",
        "N = 10\n",
        "x = []\n",
        "y1 = np.zeros(N)\n",
        "y2 = np.zeros(N)\n",
        "\n",
        "# i) using numpy\n",
        "for i in range(N):\n",
        "    n = 2**i\n",
        "    A = np.random.randint(50, size=(n, n))\n",
        "    B = np.random.randint(50, size=(n, n))\n",
        "\n",
        "    st = time.time()\n",
        "    M = A @ B\n",
        "    y1[i] = time.time() - st\n",
        "    x.append(n)\n",
        "\n",
        "# ii) using foor loop \n",
        "for i in range(N):\n",
        "    n = 2**i\n",
        "\n",
        "    st = time.time()\n",
        "    for j in range(len(A)):\n",
        "        for k in range(len(A)):\n",
        "            M[j, k] = (A[j, k] * B[j, k])\n",
        "    y2[i] = time.time() - st\n",
        "\n",
        "plt.grid()\n",
        "plt.scatter(x, y1, color = \"red\", marker= \"+\", s=30, label='numpy scatter')\n",
        "plt.plot(x, y1, color = \"blue\", label='numpy plot')\n",
        "plt.xlabel('N')\n",
        "plt.ylabel('t')\n",
        "\n",
        "plt.scatter(x, y2, color = \"red\", marker= \"+\", s=30, label='loop scatter')\n",
        "plt.plot(x, y2, color = \"green\", label='loop plot')\n",
        "plt.legend()\n",
        "\n",
        "plt.show()"
      ],
      "metadata": {
        "id": "pCJZ1s17oqKJ",
        "colab": {
          "base_uri": "https://localhost:8080/",
          "height": 281
        },
        "outputId": "a84bcdd5-e8fb-4906-eaee-5eb0dae4fa6c"
      },
      "execution_count": 49,
      "outputs": [
        {
          "output_type": "display_data",
          "data": {
            "text/plain": [
              "<Figure size 432x288 with 1 Axes>"
            ],
            "image/png": "[encoded data removed]"
          },
          "metadata": {
            "needs_background": "light"
          }
        }
      ]
    },
    {
      "cell_type": "markdown",
      "source": [
        "\n",
        "\n",
        "##              **Упр 2 Matplotlib** \n"
      ],
      "metadata": {
        "id": "OGdmP0KzQBU0"
      }
    },
    {
      "cell_type": "markdown",
      "source": [
        "**1. Постройте таблицу 2 × 2 из четырех графиков (см. функцию plt.subplots)**"
      ],
      "metadata": {
        "id": "1apuiPG1QTZq"
      }
    },
    {
      "cell_type": "code",
      "source": [
        "import matplotlib.pyplot as plt\n",
        "import numpy as np\n",
        "\n",
        "x1 = np.linspace(-2 * np.pi, 2 * np.pi, 1000)\n",
        "y1 = np.sin(x1)\n",
        "\n",
        "x2 = np.linspace(-5 , 10 , 1000)\n",
        "y2 = np.abs(x2)\n",
        "\n",
        "x3 = np.linspace (-1, 9, 5000)\n",
        "y3 = np.sqrt(x3)\n",
        "\n",
        "x4 = np.linspace(-5*np.pi, 5*np.pi, 1000 )\n",
        "y4 = np.sin(x4) * x4\n",
        "\n",
        "fig = plt.figure()\n",
        "\n",
        "ax_1 = fig.add_subplot(2, 2, 1)\n",
        "ax_2 = fig.add_subplot(2, 2, 2)\n",
        "ax_3 = fig.add_subplot(2, 2, 3)\n",
        "ax_4 = fig.add_subplot(2, 2, 4)\n",
        "\n",
        "ax_1.plot(x1, y1, 'green', label = 'sin(x)')\n",
        "ax_1.set(title = 'sin(x)', xticks=[], yticks=[])\n",
        "\n",
        "ax_2.plot(x2, y2, '--' , 'purple', label = 'abs(x)')\n",
        "ax_2.set(title = 'abs(x)', xticks=[], yticks=[])\n",
        "\n",
        "ax_3.plot(x3, y3, label = 'sqrt(x)')\n",
        "ax_3.set(title = 'sqrt(x)', xticks=[], yticks=[])\n",
        "\n",
        "ax_4.plot(x4, y4, 'purple', label = 'sqin(x)*x')\n",
        "ax_4.set(title = 'sqin(x)*x', xticks=[], yticks=[])\n",
        "\n",
        "plt.show()"
      ],
      "metadata": {
        "id": "oPwZa87gaDV3"
      },
      "execution_count": null,
      "outputs": []
    },
    {
      "cell_type": "markdown",
      "source": [
        "**2. Постройте график из какой-нибудь лабораторной работы с крестами ошибок**"
      ],
      "metadata": {
        "id": "AMvI81I6KRw0"
      }
    },
    {
      "cell_type": "code",
      "source": [
        "import numpy as np\n",
        "import matplotlib.pyplot as plt\n",
        "\n",
        "x = np.array([0, 30, 60, 90, 120, 150, 180, 210, 240, 270, 300, 330, 360, 390, 420, 450, 490, 520])\n",
        "y = np.array([25, 25, 25, 23, 24, 22, 22, 21, 23, 17, 13, 10, 7, 4, 3, 0, 0, 0])\n",
        "\n",
        "plt.title(\"Number of submerged pelmeni in water of time\")\n",
        "plt.xlabel(\"Time, sec\")\n",
        "plt.ylabel(\"Submerged Pelmeni\")\n",
        "\n",
        "#plt.plot(x, y)\n",
        "\n",
        "plt.grid()\n",
        "plt.scatter(x, y, color= \"blue\", marker= \"o\", s=30, label='data')\n",
        "plt.errorbar(x, y, xerr=15, yerr=1, fmt=\"+\", color=\"r\", label='errors')\n",
        "plt.legend()\n",
        "\n",
        "plt.show()"
      ],
      "metadata": {
        "id": "EbdKQ6_t2RG7",
        "colab": {
          "base_uri": "https://localhost:8080/",
          "height": 295
        },
        "outputId": "50413c65-fd3c-4571-91cc-78e609ea648d"
      },
      "execution_count": 42,
      "outputs": [
        {
          "output_type": "display_data",
          "data": {
            "text/plain": [
              "<Figure size 432x288 with 1 Axes>"
            ],
            "image/png": "[encoded data removed]"
          },
          "metadata": {
            "needs_background": "light"
          }
        }
      ]
    },
    {
      "cell_type": "markdown",
      "source": [
        "**3. Постройте график в логарифмическом масштабе без явного вычисления логарифмов**"
      ],
      "metadata": {
        "id": "RX6gQ6SY7E3e"
      }
    },
    {
      "cell_type": "code",
      "source": [
        "import matplotlib.pyplot as plt\n",
        " \n",
        "x = np.linspace(-5, 100, 1000)\n",
        "y = np.sin(x)*x\n",
        " \n",
        "#convert x-axis to Logarithmic scale\n",
        "plt.xscale(\"log\")\n",
        "\n",
        "\n",
        "plt.grid() \n",
        "plt.plot(x, y, c='green', label='sin(x)*x')\n",
        "\n",
        "plt.xlim(-0.01, 100)\n",
        "plt.ylim(-100, 100)\n",
        "plt.xlabel('x')\n",
        "plt.ylabel('y')\n",
        "plt.legend()\n",
        "plt.show()"
      ],
      "metadata": {
        "id": "jEkkUosd7HiI",
        "colab": {
          "base_uri": "https://localhost:8080/",
          "height": 339
        },
        "outputId": "fc66fa78-cf12-453f-bcd3-02174c5e95fb"
      },
      "execution_count": 6,
      "outputs": [
        {
          "output_type": "stream",
          "name": "stderr",
          "text": [
            "/usr/local/lib/python3.7/dist-packages/ipykernel_launcher.py:13: UserWarning: Attempted to set non-positive left xlim on a log-scaled axis.\n",
            "Invalid limit will be ignored.\n",
            "  del sys.path[0]\n"
          ]
        },
        {
          "output_type": "display_data",
          "data": {
            "text/plain": [
              "<Figure size 432x288 with 1 Axes>"
            ],
            "image/png": "[encoded data removed]"
          },
          "metadata": {
            "needs_background": "light"
          }
        }
      ]
    },
    {
      "cell_type": "markdown",
      "source": [
        "\n",
        "## **Упр 3 Вигнеровский полукруг**"
      ],
      "metadata": {
        "id": "gCbZBsPvCifx"
      }
    },
    {
      "cell_type": "markdown",
      "source": [
        "**1. Сгенерируйте случайную матрицу N×N, в которой каждый элемент взят из гауссового нормального распределения\n",
        "с постоянными параметрами. Сделайте из этой матрицы симметричную, добавив к ней ее транспонированную.\n",
        "Постройте гистограмму собственных значений получившейся матрицы (подберите достаточно большое N и\n",
        "удачное количество бинов). Повторите эксперимент 50 раз (здесь цикл разрешается) и отобразите разброс\n",
        "высоты каждого бина гистограммы с помощью креста ошибок.**"
      ],
      "metadata": {
        "id": "0V6cdkN0Ctnt"
      }
    },
    {
      "cell_type": "code",
      "source": [
        "N = 500\n",
        "M = np.random.randint(100, size=(N, N))\n",
        "sym_M = 1/2 * (M + M.T) \n",
        "\n",
        "i = 1\n",
        "#Разброс высоты\n",
        "for i in range(50):\n",
        "    plt.clf() \n",
        "    M = np.random.normal(scale = 1, size = (N, N))\n",
        "    sym_M = 1/2 * (M + M.T) \n",
        "    eigenv = np.linalg.eigh(sym_M)[0] # собственные значения\n",
        "    height = plt.hist(eigenv, 50)[0]  # Compute and plot a histogram.\n",
        "    h_arr = np.vstack([h_arr, height]) # Stack arrays in sequence vertically\n",
        "\n",
        "\n",
        "x = np.arange(50)\n",
        "res = np.array(np.mean(h_arr, axis = 0))\n",
        "res_err = np.array(np.std(h_arr, axis = 0))\n",
        "\n",
        "\n",
        "plt.figure(figsize=(8,8))\n",
        "plt.fill_between(x, res - res_err, res + res_err, alpha = 0.5, color = 'r')\n",
        "plt.scatter(x, res, color = 'black')\n",
        "plt.xlabel(\"Номер бина\")\n",
        "plt.ylabel(\"Высота бина\")\n",
        "plt.show()\n",
        "\n",
        "#С крестами:\n",
        "#plt.errorbar(x, res, yerr = res_err, fmt='o', ecolor = 'black', color = 'red')\n",
        "#plt.show()"
      ],
      "metadata": {
        "id": "8_d3w4xOq72B",
        "colab": {
          "base_uri": "https://localhost:8080/",
          "height": 745
        },
        "outputId": "c5a80c50-8b4f-4f90-a458-9d60c3a484d8"
      },
      "execution_count": 69,
      "outputs": [
        {
          "output_type": "display_data",
          "data": {
            "text/plain": [
              "<Figure size 432x288 with 1 Axes>"
            ],
            "image/png": "[encoded data removed]"
          },
          "metadata": {
            "needs_background": "light"
          }
        },
        {
          "output_type": "display_data",
          "data": {
            "text/plain": [
              "<Figure size 576x576 with 1 Axes>"
            ],
            "image/png": "[encoded data removed]"
          },
          "metadata": {
            "needs_background": "light"
          }
        }
      ]
    }
  ]
}
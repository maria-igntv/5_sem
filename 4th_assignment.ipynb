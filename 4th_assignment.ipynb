{
  "cells": [
    {
      "cell_type": "markdown",
      "metadata": {
        "id": "X3NhvNLaMcjf"
      },
      "source": [
        "## Задание 1\n",
        "\n",
        "Реализовать генератор матрциц, который должен поддерживать функции:\n",
        "* Генерация абсолютно случайной матрицы $n\\times m$\n",
        "* Генерация случайной диагональной матрицы $n\\times n$\n",
        "* Генерация случайной верхнетреугольной матрицы\n",
        "* Генерация случайной нижнетреугольной матрицы\n",
        "* Генерация симметричной матрицы\n",
        "* Генерация вырожденной матрицы\n",
        "* Генерация матрицы ступенчатого вида $n\\times n$ ранга $m$\n",
        "* Генерация возмущения матрицы $n\\times m$, каждый элемент которой не превосходит по модулю заданный $\\varepsilon$. Оценить величину нормы матрицы возмущений в зависимости от параметра $\\varepsilon$ (оценить верхную границу).\n",
        "\n",
        "Оценить численно вероятность того, что созданная матрица будет вырожденной для какого-либо случая выше. \n"
      ],
      "id": "X3NhvNLaMcjf"
    },
    {
      "cell_type": "code",
      "execution_count": 110,
      "metadata": {
        "id": "ubIayxXCMcjg"
      },
      "outputs": [],
      "source": [
        "# Реализую произвольную m,n, верхнетреугольную и симметричную. Остальное на вас - вам нужно дописать функцию.\n",
        "# Не забудьте откомментировать ваши изменения в документации к функции!\n",
        "\n",
        "import numpy as np\n",
        "from itertools import *\n",
        "\n",
        "def matrix_generate(rows, columns, type_ = \"full\", eps = 0):\n",
        "    \"\"\"\n",
        "    matrix_generate(rows, columns, type_ = \"full\")\n",
        "    \n",
        "    Создаёт случайную матрицу выбранного типа. \n",
        "    \n",
        "    Если матрицу нужных размеров создать нельзя должен выдать\n",
        "    строку f\"Error with type {type_} and shape ({rows},{columns})\".\n",
        "    \n",
        "    Parameters\n",
        "    ----------\n",
        "    \n",
        "    rows : int\n",
        "        Количество строк в создаваемой матрице.\n",
        "    columns : int\n",
        "        Количество столбцов в создаваемой матрице.\n",
        "    type_ : str, optional\n",
        "        Тип создаваемой матрицы: \"full\", \"upper_triangular\", \"symmetric\" и т.д.\n",
        "    eps: float, optional\n",
        "        Дополнительное число, использующееся при генерации для некоторых типов матриц.\n",
        "    \n",
        "    Returns\n",
        "    -------\n",
        "    out : ndarray or str\n",
        "        Выдаёт матрицу нужного типа либо ошибку.\n",
        "        \n",
        "    Notes\n",
        "    -----\n",
        "    Поддерживаемые типы матриц:\n",
        "        \"full\",\"upper_triangular\",\n",
        "        \"symmetric\",\n",
        "        \"diagonal\", \"lower_triangular\",\n",
        "        \"degenerate\", \"stagging\",\n",
        "        \"perturbation\"\n",
        "        ...\n",
        "    \n",
        "    \n",
        "    \"\"\"\n",
        "    \n",
        "    A = None\n",
        "    \n",
        "    if type_ == \"full\":\n",
        "        \n",
        "        A = np.random.random(size=(rows, columns))\n",
        "        \n",
        "    elif type_ == \"upper_triangular\":\n",
        "        \n",
        "        A = np.random.random(size=(rows, columns))\n",
        "\n",
        "        for i in range(rows):\n",
        "            for j in range(columns):\n",
        "                if (i > j):\n",
        "                    A[i, j] = 0\n",
        "        \n",
        "    elif type_ == \"lower_triangular\":\n",
        "        \n",
        "        A = matrix_generate(columns, rows, type_ = \"upper_triangular\", eps = 0)\n",
        "        \n",
        "        A = np.transpose(A)\n",
        "        \n",
        "    elif type_ == \"diagonal\":\n",
        "        \n",
        "        if rows != columns:\n",
        "            return f\"Error with type {type_} and shape ({rows},{columns})\"\n",
        "        \n",
        "        else:\n",
        "            \n",
        "            A = np.random.random(size=(rows, columns))\n",
        "        \n",
        "            for i in range(rows):\n",
        "                for j in range(columns):\n",
        "                    if (i != j):\n",
        "                        A[i, j] = 0\n",
        "                        \n",
        "            # Здесь вероятность вырожденности равна вероятности получить ноль хотя бы в одной ячейке диагонали. \n",
        "            # np.random.random выдает число типа float из полуинтервала [0.0, 1.0).\n",
        "            # Это числа без знака и с нулевым порядком, то есть остаётся только мантисса, которая до 23 бит. \n",
        "            # Тогда искомая вероятность -- это $ n * 2^{-23}$.\n",
        "            # Заметим, что вероятность для верхнетреугольной и нижнетреугольной определяется таким же образом.\n",
        "        \n",
        "    elif type_ == \"symmetric\":\n",
        "        \n",
        "        if rows != columns:\n",
        "            return f\"Error with type {type_} and shape ({rows},{columns})\"\n",
        "        \n",
        "        A = matrix_generate(columns, rows, type_ = \"upper_triangular\", eps = 0)\n",
        "        \n",
        "        A += np.transpose(A) \n",
        "        \n",
        "    elif type_ == \"degenerate\":\n",
        "        \n",
        "        if rows != columns:\n",
        "            return f\"Error with type {type_} and shape ({rows},{columns})\"\n",
        "        \n",
        "        A = np.random.random(size=(rows, columns))\n",
        "        b = np.random.random(size=rows)\n",
        "        ind = np.random.randint(rows)\n",
        "        \n",
        "        A[ind] = A @ b - A[ind] * b[ind]\n",
        "        # Здесь вероятность того, что матрица будет вырожденной, равна 1\n",
        "        \n",
        "    elif type_ == \"stagging\":\n",
        "        \n",
        "        if rows < columns:\n",
        "            return f\"Error with type {type_} and shape ({rows},{columns})\"\n",
        "        \n",
        "        A = np.random.random(size=(rows, rows))\n",
        "        b = sorted(np.random.choice(rows, columns, replace=False))\n",
        "        b = np.pad(b, (0, rows-columns), mode='constant')\n",
        "        \n",
        "        for i in range(rows):\n",
        "            for j in range(rows):\n",
        "                if (i >= columns):\n",
        "                    A[i, j] = 0\n",
        "                elif (i < columns):\n",
        "                    if (j < b[i]):\n",
        "                        A[i, j] = 0\n",
        "                        \n",
        "    elif type_ == \"perturbation\":\n",
        "        \n",
        "        A = (2 * np.random.random(size=(rows, columns)) - 1) * eps\n",
        "        # Оценим бесконечность нормой, тогда ||A|| < rows * eps\n",
        "        # Аналогично для 1-нормы, ||A|| < columns * eps\n",
        "    \n",
        "    return A"
      ],
      "id": "ubIayxXCMcjg"
    },
    {
      "cell_type": "code",
      "execution_count": 111,
      "metadata": {
        "colab": {
          "base_uri": "https://localhost:8080/"
        },
        "id": "H0w_zvOnMcjh",
        "outputId": "e38e5c8b-9094-4da8-bc35-58f4a3861991"
      },
      "outputs": [
        {
          "output_type": "execute_result",
          "data": {
            "text/plain": [
              "array([[0.87113969, 0.9869859 , 0.1311559 ]])"
            ]
          },
          "metadata": {},
          "execution_count": 111
        }
      ],
      "source": [
        "matrix_generate(1, 3)"
      ],
      "id": "H0w_zvOnMcjh"
    },
    {
      "cell_type": "code",
      "execution_count": 112,
      "metadata": {
        "colab": {
          "base_uri": "https://localhost:8080/"
        },
        "id": "cexJAh4MMcji",
        "outputId": "d2df9103-8223-48a9-edd0-2f1939437bea"
      },
      "outputs": [
        {
          "output_type": "execute_result",
          "data": {
            "text/plain": [
              "array([[0.89336848, 0.52651441, 0.69232337, 0.58348449],\n",
              "       [0.        , 0.45879803, 0.19554831, 0.98176107],\n",
              "       [0.        , 0.        , 0.32042206, 0.25098292],\n",
              "       [0.        , 0.        , 0.        , 0.45133909]])"
            ]
          },
          "metadata": {},
          "execution_count": 112
        }
      ],
      "source": [
        "matrix_generate(4, 4, type_ = \"upper_triangular\")"
      ],
      "id": "cexJAh4MMcji"
    },
    {
      "cell_type": "code",
      "execution_count": 113,
      "metadata": {
        "colab": {
          "base_uri": "https://localhost:8080/"
        },
        "id": "Xguu1TceMcji",
        "outputId": "1cfc2596-55dc-43d5-9a30-08cecd066d8b"
      },
      "outputs": [
        {
          "output_type": "execute_result",
          "data": {
            "text/plain": [
              "array([[0.19660557, 0.7938302 , 0.10270976],\n",
              "       [0.        , 0.19762084, 0.65439083],\n",
              "       [0.        , 0.        , 0.47293649],\n",
              "       [0.        , 0.        , 0.        ]])"
            ]
          },
          "metadata": {},
          "execution_count": 113
        }
      ],
      "source": [
        "matrix_generate(4, 3, type_ = \"upper_triangular\")"
      ],
      "id": "Xguu1TceMcji"
    },
    {
      "cell_type": "code",
      "execution_count": 114,
      "metadata": {
        "colab": {
          "base_uri": "https://localhost:8080/"
        },
        "id": "EJGmTOPiMcji",
        "outputId": "3d70a872-8601-450a-cb40-4fec941657fb"
      },
      "outputs": [
        {
          "output_type": "execute_result",
          "data": {
            "text/plain": [
              "array([[1.06680708, 0.90381023, 0.54031987, 0.3876856 ],\n",
              "       [0.90381023, 0.12639696, 0.45256298, 0.78391648],\n",
              "       [0.54031987, 0.45256298, 1.26093444, 0.34736421],\n",
              "       [0.3876856 , 0.78391648, 0.34736421, 0.45870675]])"
            ]
          },
          "metadata": {},
          "execution_count": 114
        }
      ],
      "source": [
        "matrix_generate(4, 4, type_ = \"symmetric\")"
      ],
      "id": "EJGmTOPiMcji"
    },
    {
      "cell_type": "code",
      "execution_count": 115,
      "metadata": {
        "colab": {
          "base_uri": "https://localhost:8080/",
          "height": 35
        },
        "id": "wRqxWXQMMcji",
        "outputId": "e53c0321-5a8c-4d45-fac5-e13cd914c1bd"
      },
      "outputs": [
        {
          "output_type": "execute_result",
          "data": {
            "text/plain": [
              "'Error with type symmetric and shape (4,1)'"
            ],
            "application/vnd.google.colaboratory.intrinsic+json": {
              "type": "string"
            }
          },
          "metadata": {},
          "execution_count": 115
        }
      ],
      "source": [
        "matrix_generate(4, 1, type_ = \"symmetric\")"
      ],
      "id": "wRqxWXQMMcji"
    },
    {
      "cell_type": "code",
      "execution_count": 116,
      "metadata": {
        "colab": {
          "base_uri": "https://localhost:8080/"
        },
        "id": "n9YSwsn3Mcjj",
        "outputId": "e23825df-aaf0-42f5-d9c0-239b1876e04e"
      },
      "outputs": [
        {
          "output_type": "execute_result",
          "data": {
            "text/plain": [
              "array([[0.80630944, 0.        , 0.        ],\n",
              "       [0.72545594, 0.66335674, 0.        ],\n",
              "       [0.48358867, 0.86607375, 0.11504583],\n",
              "       [0.87330996, 0.73341417, 0.93840884]])"
            ]
          },
          "metadata": {},
          "execution_count": 116
        }
      ],
      "source": [
        "matrix_generate(4, 3, type_ = \"lower_triangular\")"
      ],
      "id": "n9YSwsn3Mcjj"
    },
    {
      "cell_type": "code",
      "execution_count": 118,
      "metadata": {
        "scrolled": true,
        "colab": {
          "base_uri": "https://localhost:8080/"
        },
        "id": "i1tUEZ4fMcjj",
        "outputId": "63c5cfbe-cd3a-4100-a1c3-6e68d044ef89"
      },
      "outputs": [
        {
          "output_type": "execute_result",
          "data": {
            "text/plain": [
              "array([[0.98914136, 0.        , 0.        , 0.        ],\n",
              "       [0.        , 0.00443455, 0.        , 0.        ],\n",
              "       [0.        , 0.        , 0.11658575, 0.        ],\n",
              "       [0.        , 0.        , 0.        , 0.96061163]])"
            ]
          },
          "metadata": {},
          "execution_count": 118
        }
      ],
      "source": [
        "matrix_generate(4, 4, type_ = \"diagonal\")"
      ],
      "id": "i1tUEZ4fMcjj"
    },
    {
      "cell_type": "code",
      "execution_count": 119,
      "metadata": {
        "colab": {
          "base_uri": "https://localhost:8080/"
        },
        "id": "vh2TquCBMcjj",
        "outputId": "fd16a20f-7db2-4238-e709-3f6176bcc8ff"
      },
      "outputs": [
        {
          "output_type": "stream",
          "name": "stdout",
          "text": [
            "[[0.84130333 0.89258569]\n",
            " [0.88508639 0.94869753]]\n"
          ]
        }
      ],
      "source": [
        "A = matrix_generate(2, 2, type_ = \"degenerate\")\n",
        "print(A)"
      ],
      "id": "vh2TquCBMcjj"
    },
    {
      "cell_type": "code",
      "execution_count": 120,
      "metadata": {
        "colab": {
          "base_uri": "https://localhost:8080/"
        },
        "id": "bpO0VQMaMcjk",
        "outputId": "2eb4894a-ee8b-49c6-bd18-0357d831518c"
      },
      "outputs": [
        {
          "output_type": "execute_result",
          "data": {
            "text/plain": [
              "0.00812694114812551"
            ]
          },
          "metadata": {},
          "execution_count": 120
        }
      ],
      "source": [
        "np.linalg.det(A)"
      ],
      "id": "bpO0VQMaMcjk"
    },
    {
      "cell_type": "code",
      "execution_count": 122,
      "metadata": {
        "colab": {
          "base_uri": "https://localhost:8080/"
        },
        "id": "3QreuITOMcjk",
        "outputId": "d38cdaf4-7d9f-4617-f25c-51bc4fdce4c7"
      },
      "outputs": [
        {
          "output_type": "execute_result",
          "data": {
            "text/plain": [
              "array([[0.43098109, 0.82445247, 0.81399525, 0.21169101, 0.29542204],\n",
              "       [0.        , 0.73513557, 0.32882643, 0.27550424, 0.38445565],\n",
              "       [0.        , 0.        , 0.80721327, 0.49394477, 0.463681  ],\n",
              "       [0.        , 0.        , 0.        , 0.        , 0.74923553],\n",
              "       [0.        , 0.        , 0.        , 0.        , 0.        ]])"
            ]
          },
          "metadata": {},
          "execution_count": 122
        }
      ],
      "source": [
        "matrix_generate(5, 4, type_ = \"stagging\")"
      ],
      "id": "3QreuITOMcjk"
    },
    {
      "cell_type": "code",
      "execution_count": 124,
      "metadata": {
        "colab": {
          "base_uri": "https://localhost:8080/"
        },
        "id": "PyiZLviaMcjl",
        "outputId": "6b9d28fa-e041-4247-b4fc-7d97a43a1d3b"
      },
      "outputs": [
        {
          "output_type": "execute_result",
          "data": {
            "text/plain": [
              "array([[-0.03170393, -0.04017835, -0.05951135,  0.07599368, -0.09504901],\n",
              "       [ 0.04838783, -0.04806761, -0.07859954, -0.05837268, -0.05849822],\n",
              "       [-0.00257696,  0.09951771, -0.06476353,  0.08815343, -0.03237491],\n",
              "       [ 0.02777243,  0.02747127, -0.06517267, -0.0081918 ,  0.07607488]])"
            ]
          },
          "metadata": {},
          "execution_count": 124
        }
      ],
      "source": [
        "matrix_generate(4, 5, type_ = \"perturbation\", eps = 0.1)"
      ],
      "id": "PyiZLviaMcjl"
    },
    {
      "cell_type": "markdown",
      "metadata": {
        "id": "TkZ1CveEMcjl"
      },
      "source": [
        "### Задание 2\n",
        "\n",
        "Реализовать вычисление трех основных норм векторов (L1, L2 и максимальную) и подчиненных им матричных норм. Реализовать вычисление числа обусловленности.\n",
        "\n",
        "Примечание: для вычисления собственных значений можно использовать linalg.eigvals из модуля scipy."
      ],
      "id": "TkZ1CveEMcjl"
    },
    {
      "cell_type": "code",
      "execution_count": 125,
      "metadata": {
        "id": "E3dFV3hyMcjl"
      },
      "outputs": [],
      "source": [
        "import numpy as np\n",
        "from scipy import linalg\n",
        "\n",
        "def vec_L1_norm(x):\n",
        "    return sum(abs(x))\n",
        "\n",
        "def vec_L2_norm(x):\n",
        "    return np.sqrt(sum(x**2))\n",
        "\n",
        "def vec_max_norm(x):\n",
        "    return max(abs(x))\n",
        "\n",
        "def mat_L1_norm(X):\n",
        "    return max(abs(X) @ np.ones(np.shape(X)[1]))\n",
        "\n",
        "def mat_max_norm(X):\n",
        "    return max(np.ones(np.shape(X)[0]) @ abs(X))\n",
        "    # А можно было return mat_L1_norm(np.transpose(X))\n",
        "    \n",
        "def mat_L2_norm(X):\n",
        "    return np.sqrt(max(linalg.eigvals(np.transpose(X) @ X)))\n",
        "\n",
        "def conditionality_L1(X):\n",
        "    return mat_L1_norm(np.linalg.inv(X)) * mat_L1_norm(X)\n",
        "\n",
        "def conditionality_max(X):\n",
        "    return conditionality_L1(np.transpose(X))\n",
        "\n",
        "def conditionality_L2(X):\n",
        "    eigs = linalg.eigvals(np.transpose(X) @ X)\n",
        "    return np.sqrt(max(eigs) / min(eigs))"
      ],
      "id": "E3dFV3hyMcjl"
    },
    {
      "cell_type": "code",
      "execution_count": 126,
      "metadata": {
        "colab": {
          "base_uri": "https://localhost:8080/"
        },
        "id": "TcsRQBD8Mcjm",
        "outputId": "a0cc1080-1410-4a95-ea0b-b875b04b6704"
      },
      "outputs": [
        {
          "output_type": "stream",
          "name": "stdout",
          "text": [
            "[0.90176636 0.20673895 0.32879104 0.76753681 0.34515829]\n",
            "[[0.04836387 0.88043327 0.78518878]\n",
            " [0.05888168 0.95263364 0.07528802]\n",
            " [0.85217985 0.49861975 0.37700187]]\n",
            "2.5499914557210626\n",
            "1.2931643787938707\n",
            "0.9017663551379953\n",
            "1.7278014687208134\n",
            "(1.6344169861329694+0j)\n",
            "2.33168665717188\n",
            "4.6568405058081686\n",
            "5.961810534495832\n",
            "(3.4797069881861917+0j)\n"
          ]
        }
      ],
      "source": [
        "x = np.random.random(5)\n",
        "X = matrix_generate(3, 3)\n",
        "print(x)\n",
        "print(X)\n",
        "print(vec_L1_norm(x))\n",
        "print(vec_L2_norm(x))\n",
        "print(vec_max_norm(x))\n",
        "print(mat_L1_norm(X))\n",
        "print(mat_L2_norm(X))\n",
        "print(mat_max_norm(X))\n",
        "print(conditionality_L1(X))\n",
        "print(conditionality_max(X))\n",
        "print(conditionality_L2(X))"
      ],
      "id": "TcsRQBD8Mcjm"
    },
    {
      "cell_type": "markdown",
      "metadata": {
        "id": "XDT7iPGSMcjm"
      },
      "source": [
        "### Задание 3\n",
        "\n",
        "Реализовать метод Гаусса приведения матрицы к ступенчатому виду. Реализовать функцию вычисления ранга матрицы. Сгенерировать вырожденные матрицы различных рангов и размеров и проверить алгоритм."
      ],
      "id": "XDT7iPGSMcjm"
    },
    {
      "cell_type": "code",
      "execution_count": 127,
      "metadata": {
        "id": "AYNkyB3kMcjm"
      },
      "outputs": [],
      "source": [
        "def ForwardGauss(X, rank = False):\n",
        "    n, m = X.shape\n",
        "    string = 0\n",
        "    shift = 0\n",
        "    for i in range(m):\n",
        "        # print(np.abs(X.T[column + shift][column:]))\n",
        "        if (string < n):\n",
        "            ind = string + np.argmax(np.abs(X.T[string + shift][string:]))\n",
        "        else: continue\n",
        "    \n",
        "        if X.T[string + shift][ind] != 0:\n",
        "            X[string], X[ind] = X[ind], X[string]\n",
        "        else:\n",
        "            shift += 1\n",
        "            continue\n",
        "\n",
        "        for j in range(string + 1, n):\n",
        "            X[j] -=  X[string] * X[j, i] / X[string, i]\n",
        "        string += 1\n",
        "        \n",
        "    if rank:\n",
        "        rk = n - shift\n",
        "        return X, rk\n",
        "    else:\n",
        "        return X\n",
        "    \n",
        "def rank(X):\n",
        "    return ForwardGauss(X, rank = True)[1]"
      ],
      "id": "AYNkyB3kMcjm"
    },
    {
      "cell_type": "code",
      "execution_count": 128,
      "metadata": {
        "colab": {
          "base_uri": "https://localhost:8080/"
        },
        "id": "lqw6TvCIMcjm",
        "outputId": "463d0e78-c9c7-47e8-9089-5f27daf213bc"
      },
      "outputs": [
        {
          "output_type": "stream",
          "name": "stdout",
          "text": [
            "[[4 0 3 4]\n",
            " [1 4 3 5]\n",
            " [2 3 4 3]\n",
            " [4 1 2 5]]\n"
          ]
        }
      ],
      "source": [
        "X = np.random.randint(6, size=(4, 4))\n",
        "print(X)"
      ],
      "id": "lqw6TvCIMcjm"
    },
    {
      "cell_type": "code",
      "execution_count": 129,
      "metadata": {
        "colab": {
          "base_uri": "https://localhost:8080/"
        },
        "id": "0z_lMsPMMcjm",
        "outputId": "1d12a858-767e-4126-aa28-7ed032dd7748"
      },
      "outputs": [
        {
          "output_type": "stream",
          "name": "stdout",
          "text": [
            "[4 0 3 4]\n",
            "[4 1 2 4]\n",
            "2\n",
            "3\n"
          ]
        }
      ],
      "source": [
        "print(X[0])\n",
        "print(X.T[0])\n",
        "print(X[2, 0])\n",
        "print(X[0, 2])"
      ],
      "id": "0z_lMsPMMcjm"
    },
    {
      "cell_type": "code",
      "execution_count": 130,
      "metadata": {
        "colab": {
          "base_uri": "https://localhost:8080/"
        },
        "id": "iCZ8OWcDMcjn",
        "outputId": "b67eeac2-eb9c-443e-be13-4bf9e708a9be"
      },
      "outputs": [
        {
          "output_type": "stream",
          "name": "stdout",
          "text": [
            "[3 4 2]\n"
          ]
        }
      ],
      "source": [
        "print(X.T[2][1:])"
      ],
      "id": "iCZ8OWcDMcjn"
    },
    {
      "cell_type": "code",
      "execution_count": 131,
      "metadata": {
        "colab": {
          "base_uri": "https://localhost:8080/"
        },
        "id": "0wm3absRMcjn",
        "outputId": "841e8742-80a0-4193-c66c-a252e9279e3f"
      },
      "outputs": [
        {
          "output_type": "stream",
          "name": "stdout",
          "text": [
            "[[4.79775059e-01 4.80457748e-04 2.55798208e-01 6.31374946e-01]\n",
            " [2.96731741e-01 5.46400934e-01 3.21005688e-01 1.21375222e-01]\n",
            " [9.42325143e-01 8.27738389e-02 6.07352736e-01 3.26864570e-01]\n",
            " [5.26871364e-01 3.75543239e-01 6.65994052e-01 2.49188885e-01]]\n",
            "[[0.94232514 0.08277384 0.60735274 0.32686457]\n",
            " [0.         0.52033602 0.12975447 0.01844781]\n",
            " [0.         0.         0.24430475 0.05475931]\n",
            " [0.         0.         0.         0.        ]]\n",
            "3\n"
          ]
        }
      ],
      "source": [
        "X = matrix_generate(4, 4)\n",
        "print(X)\n",
        "X = ForwardGauss(X)\n",
        "print(X)\n",
        "print(rank(X))"
      ],
      "id": "0wm3absRMcjn"
    },
    {
      "cell_type": "code",
      "execution_count": 132,
      "metadata": {
        "scrolled": true,
        "colab": {
          "base_uri": "https://localhost:8080/"
        },
        "id": "1UqK0D1kMcjn",
        "outputId": "62a924f3-66ec-482e-eaba-6625f681b75b"
      },
      "outputs": [
        {
          "output_type": "stream",
          "name": "stdout",
          "text": [
            "[[0.25274428 0.77448111 0.91585844 0.20683817 0.18920219]\n",
            " [0.         0.         0.79607166 0.42905066 0.81082628]\n",
            " [0.         0.         0.         0.19848755 0.10905133]\n",
            " [0.         0.         0.         0.         0.54821538]\n",
            " [0.         0.         0.         0.         0.        ]]\n",
            "[[0.25274428 0.77448111 0.91585844 0.20683817 0.18920219]\n",
            " [0.         0.         0.79607166 0.42905066 0.81082628]\n",
            " [0.         0.         0.         0.19848755 0.10905133]\n",
            " [0.         0.         0.         0.         0.54821538]\n",
            " [0.         0.         0.         0.         0.        ]]\n",
            "4\n"
          ]
        }
      ],
      "source": [
        "X = matrix_generate(5, 4, type_ = \"stagging\")\n",
        "print(X)\n",
        "X = ForwardGauss(X)\n",
        "print(X)\n",
        "print(rank(X))"
      ],
      "id": "1UqK0D1kMcjn"
    },
    {
      "cell_type": "code",
      "execution_count": 133,
      "metadata": {
        "colab": {
          "base_uri": "https://localhost:8080/"
        },
        "id": "ZFVqXX7lMcjn",
        "outputId": "e8782ae6-7709-4abc-c658-6976d4a03f1e"
      },
      "outputs": [
        {
          "output_type": "stream",
          "name": "stdout",
          "text": [
            "[[0.3708758  0.20060358 0.14691943 0.69858419 0.19907192]\n",
            " [0.75416902 0.70995022 1.39828982 0.75419417 0.62992002]\n",
            " [0.2412802  0.4496591  0.9782271  0.50967425 0.09975294]\n",
            " [0.76944895 0.76388229 0.30421677 0.17547276 0.88908317]\n",
            " [0.6337397  0.78235581 0.19947174 0.34627783 0.28941142]]\n",
            "[[ 7.69448950e-01  7.63882292e-01  3.04216769e-01  1.75472758e-01\n",
            "   8.89083169e-01]\n",
            " [-2.77555756e-17  2.10124469e-01  8.82832228e-01  4.54650322e-01\n",
            "  -1.79041596e-01]\n",
            " [ 2.02364856e-17  0.00000000e+00 -6.94759360e-01 -1.29730289e-01\n",
            "  -3.12323827e-01]\n",
            " [-1.07840738e-33  0.00000000e+00  0.00000000e+00  1.80876528e-16\n",
            "  -1.93269218e-16]\n",
            " [-3.08148791e-33  0.00000000e+00  0.00000000e+00  0.00000000e+00\n",
            "   0.00000000e+00]]\n",
            "5\n"
          ]
        }
      ],
      "source": [
        "X = matrix_generate(5, 5, type_ = \"degenerate\")\n",
        "print(X)\n",
        "X = ForwardGauss(X)\n",
        "print(X)\n",
        "print(rank(X))"
      ],
      "id": "ZFVqXX7lMcjn"
    },
    {
      "cell_type": "code",
      "execution_count": 134,
      "metadata": {
        "colab": {
          "base_uri": "https://localhost:8080/"
        },
        "id": "rzCN4mFPMcjn",
        "outputId": "64cf7dfe-b0a0-41e8-f27a-4093a22de253"
      },
      "outputs": [
        {
          "output_type": "execute_result",
          "data": {
            "text/plain": [
              "(array([[0.38684017, 0.73902513, 0.87219662, 0.37972753, 0.6852934 ],\n",
              "        [0.        , 0.41755917, 0.95843575, 0.26780604, 0.63032394],\n",
              "        [0.        , 0.        , 0.5584318 , 0.94101082, 0.07635358],\n",
              "        [0.        , 0.        , 0.        , 0.55048797, 0.26281097],\n",
              "        [0.        , 0.        , 0.        , 0.        , 0.52388621]]), 5)"
            ]
          },
          "metadata": {},
          "execution_count": 134
        }
      ],
      "source": [
        "X = matrix_generate(5, 5, type_ = \"upper_triangular\")\n",
        "ForwardGauss(X, rank=True)"
      ],
      "id": "rzCN4mFPMcjn"
    },
    {
      "cell_type": "markdown",
      "metadata": {
        "id": "2_1ohoRxMcjo"
      },
      "source": [
        "### Задание 4\n",
        "Реализовать метод Гаусса решения СЛАУ. Использовать данный метод для решения систем различных размеров. Оценить скорость работы метода Гаусса (необходимое количество операций) в зависимости от размера системы аналитически и практически."
      ],
      "id": "2_1ohoRxMcjo"
    },
    {
      "cell_type": "code",
      "execution_count": 135,
      "metadata": {
        "id": "KC0nOlH6Mcjo"
      },
      "outputs": [],
      "source": [
        "def Gauss(A, b):\n",
        "    \n",
        "    n = A.shape[0]\n",
        "    x = np.zeros(n)\n",
        "    b = b.reshape(n, 1)\n",
        "    \n",
        "    if rank(A) < n:\n",
        "        print('Система имеет бесконечное количество решений')\n",
        "        return\n",
        "    \n",
        "    A = np.concatenate((A, b), axis=1)\n",
        "    A = ForwardGauss(A)\n",
        "    for i in range(n - 1, -1, -1):\n",
        "        tmp = 0.0\n",
        "        for j in range(i + 1, n):\n",
        "            tmp += x[j] * A[i, j]\n",
        "        x[i] = (A[i, n] - tmp) / A[i, i]\n",
        "    return x"
      ],
      "id": "KC0nOlH6Mcjo"
    },
    {
      "cell_type": "code",
      "execution_count": 136,
      "metadata": {
        "colab": {
          "base_uri": "https://localhost:8080/"
        },
        "id": "rmPjEjdIMcjo",
        "outputId": "4153ee52-7fc2-4098-e63c-8ae521d4306f"
      },
      "outputs": [
        {
          "output_type": "stream",
          "name": "stdout",
          "text": [
            "[[0.72814863 0.38124357 0.93083745 0.26499178]\n",
            " [0.         0.81182254 0.30657469 0.75689942]\n",
            " [0.         0.         0.19470402 0.19305829]\n",
            " [0.         0.         0.         0.23547792]]\n",
            "4\n",
            "[[0.72814863 0.38124357 0.93083745 0.26499178 0.30104928]\n",
            " [0.         0.81182254 0.30657469 0.75689942 0.20769934]\n",
            " [0.         0.         0.19470402 0.19305829 0.04600021]\n",
            " [0.         0.         0.         0.23547792 0.84738739]]\n"
          ]
        },
        {
          "output_type": "execute_result",
          "data": {
            "text/plain": [
              "array([[0.72814863, 0.38124357, 0.93083745, 0.26499178, 0.30104928],\n",
              "       [0.        , 0.81182254, 0.30657469, 0.75689942, 0.20769934],\n",
              "       [0.        , 0.        , 0.19470402, 0.19305829, 0.04600021],\n",
              "       [0.        , 0.        , 0.        , 0.23547792, 0.84738739]])"
            ]
          },
          "metadata": {},
          "execution_count": 136
        }
      ],
      "source": [
        "A = matrix_generate(4, 4, type_ = \"upper_triangular\")\n",
        "print(A)\n",
        "b = np.random.random(4).reshape(4, 1)\n",
        "print(rank(A))\n",
        "A = np.concatenate((A, b), axis=1)\n",
        "print(A)\n",
        "ForwardGauss(A)"
      ],
      "id": "rmPjEjdIMcjo"
    },
    {
      "cell_type": "code",
      "execution_count": 137,
      "metadata": {
        "colab": {
          "base_uri": "https://localhost:8080/"
        },
        "id": "G_8J_y_8Mcjo",
        "outputId": "8534cef0-8258-4664-ff70-9f6c607ba6e7"
      },
      "outputs": [
        {
          "output_type": "execute_result",
          "data": {
            "text/plain": [
              "array([-0.5,  0.5,  1. ])"
            ]
          },
          "metadata": {},
          "execution_count": 137
        }
      ],
      "source": [
        "B = np.array([\n",
        "    [1, 3, 1],\n",
        "    [0, 2, 0],\n",
        "    [0, 0, 1]\n",
        "], dtype=float)\n",
        "f = np.array([2, 1, 1], dtype=float)\n",
        "Gauss(B, f)"
      ],
      "id": "G_8J_y_8Mcjo"
    },
    {
      "cell_type": "code",
      "execution_count": 138,
      "metadata": {
        "colab": {
          "base_uri": "https://localhost:8080/"
        },
        "id": "9hW8FthRMcjp",
        "outputId": "7761cd7c-bcae-4292-d957-6d609be6a4ef"
      },
      "outputs": [
        {
          "output_type": "stream",
          "name": "stdout",
          "text": [
            "2\n",
            "Система имеет бесконечное количество решений\n"
          ]
        }
      ],
      "source": [
        "A = matrix_generate(4, 4)\n",
        "print(rank(A))\n",
        "b = np.random.random(4).reshape(4, 1)\n",
        "Gauss(A, b)"
      ],
      "id": "9hW8FthRMcjp"
    },
    {
      "cell_type": "code",
      "execution_count": 139,
      "metadata": {
        "colab": {
          "base_uri": "https://localhost:8080/"
        },
        "id": "VwDI--oZMcjp",
        "outputId": "1cf9002f-03f4-4e0b-9b83-8fcd00730000"
      },
      "outputs": [
        {
          "output_type": "stream",
          "name": "stdout",
          "text": [
            "7\n"
          ]
        },
        {
          "output_type": "execute_result",
          "data": {
            "text/plain": [
              "array([-0.57681256, -2.39209118,  0.52421957, -3.12710352,  4.43064798,\n",
              "       -0.82750846,  0.96941895])"
            ]
          },
          "metadata": {},
          "execution_count": 139
        }
      ],
      "source": [
        "A = matrix_generate(7, 7, type_ = \"upper_triangular\")\n",
        "print(rank(A))\n",
        "b = np.random.random(7).reshape(7, 1)\n",
        "Gauss(A, b)"
      ],
      "id": "VwDI--oZMcjp"
    }
  ],
  "metadata": {
    "kernelspec": {
      "display_name": "Python 3",
      "language": "python",
      "name": "python3"
    },
    "language_info": {
      "codemirror_mode": {
        "name": "ipython",
        "version": 3
      },
      "file_extension": ".py",
      "mimetype": "text/x-python",
      "name": "python",
      "nbconvert_exporter": "python",
      "pygments_lexer": "ipython3",
      "version": "3.8.5"
    },
    "colab": {
      "provenance": []
    }
  },
  "nbformat": 4,
  "nbformat_minor": 5
}